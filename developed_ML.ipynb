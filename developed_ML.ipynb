{
 "cells": [
  {
   "cell_type": "markdown",
   "id": "02d2c162",
   "metadata": {
    "id": "02d2c162"
   },
   "source": [
    "# Task 2: Machine Learning"
   ]
  },
  {
   "cell_type": "code",
   "execution_count": 1,
   "id": "f0218dba",
   "metadata": {
    "id": "f0218dba"
   },
   "outputs": [],
   "source": [
    "from __future__ import print_function\n",
    "import keras\n",
    "from keras.datasets import cifar10\n",
    "from keras.preprocessing.image import ImageDataGenerator\n",
    "from keras.models import Sequential\n",
    "from keras.layers import Dense, Dropout, Activation, Flatten\n",
    "from keras.layers import Conv2D, MaxPooling2D\n",
    "import os\n",
    "\n",
    "import pandas as pd\n",
    "import numpy as np\n",
    "\n",
    "import seaborn as sns\n",
    "import matplotlib\n",
    "import matplotlib.pyplot as plt\n",
    "\n",
    "from sklearn.metrics import accuracy_score,confusion_matrix,classification_report\n",
    "import itertools\n",
    "from sklearn.ensemble import RandomForestClassifier\n",
    "from sklearn.model_selection import GridSearchCV\n",
    "\n",
    "%matplotlib inline\n",
    "import warnings\n",
    "warnings.filterwarnings(\"ignore\")\n"
   ]
  },
  {
   "cell_type": "markdown",
   "id": "2fa8cc15",
   "metadata": {
    "id": "2fa8cc15"
   },
   "source": [
    "## Data pre-processing"
   ]
  },
  {
   "cell_type": "code",
   "execution_count": 2,
   "id": "6f927b7e",
   "metadata": {
    "colab": {
     "base_uri": "https://localhost:8080/"
    },
    "id": "6f927b7e",
    "outputId": "54fde8a9-4422-4411-d034-8a4a5bb31592"
   },
   "outputs": [
    {
     "name": "stdout",
     "output_type": "stream",
     "text": [
      "Downloading data from https://www.cs.toronto.edu/~kriz/cifar-10-python.tar.gz\n",
      "170500096/170498071 [==============================] - 2s 0us/step\n",
      "170508288/170498071 [==============================] - 2s 0us/step\n",
      "x_train shape: (50000, 32, 32, 3)\n",
      "y_train shape: (50000, 1)\n",
      "50000 train samples\n",
      "10000 test samples\n"
     ]
    }
   ],
   "source": [
    "(x_train, y_train), (x_test, y_test) = cifar10.load_data()\n",
    "print('x_train shape:', x_train.shape)\n",
    "print('y_train shape:', y_train.shape)\n",
    "print(x_train.shape[0], 'train samples')\n",
    "print(x_test.shape[0], 'test samples')"
   ]
  },
  {
   "cell_type": "code",
   "execution_count": 3,
   "id": "df8fdbae",
   "metadata": {
    "id": "df8fdbae"
   },
   "outputs": [],
   "source": [
    "labels = ['Airplane', 'Automobile', 'Bird', 'Cat', 'Deer', 'Dog', 'Frog', 'Horse', 'Ship', 'Truck']\n",
    "labels_train = np.array([labels[i[0]] for i in y_train])\n",
    "labels_test = np.array([labels[i[0]] for i in y_test])"
   ]
  },
  {
   "cell_type": "code",
   "execution_count": 4,
   "id": "2158d9df",
   "metadata": {
    "colab": {
     "base_uri": "https://localhost:8080/",
     "height": 297
    },
    "id": "2158d9df",
    "outputId": "b11343ce-ff9f-47fd-ff76-655966608af3"
   },
   "outputs": [
    {
     "data": {
      "text/plain": [
       "<matplotlib.axes._subplots.AxesSubplot at 0x7fa05f17ee50>"
      ]
     },
     "execution_count": 4,
     "metadata": {},
     "output_type": "execute_result"
    },
    {
     "data": {
      "image/png": "[encoded data removed]",
      "text/plain": [
       "<Figure size 432x288 with 1 Axes>"
      ]
     },
     "metadata": {
      "needs_background": "light"
     },
     "output_type": "display_data"
    }
   ],
   "source": [
    "df_train = pd.DataFrame(labels_train,columns = [\"label\"])\n",
    "df_test = pd.DataFrame(labels_test,columns = [\"label\"])\n",
    "df_train[\"train_val\"] = \"Train\"\n",
    "df_test[\"train_val\"] = \"Validation\"\n",
    "df = pd.concat([df_train,df_test])\n",
    "sns.countplot(y=\"label\", data=df, hue='train_val')"
   ]
  },
  {
   "cell_type": "markdown",
   "id": "c840eac2",
   "metadata": {
    "id": "c840eac2"
   },
   "source": [
    "## Feature engineering"
   ]
  },
  {
   "cell_type": "code",
   "execution_count": 5,
   "id": "783ea846",
   "metadata": {
    "id": "783ea846"
   },
   "outputs": [],
   "source": [
    "# Normalization\n",
    "x_train = x_train/255.0\n",
    "x_test = x_test/255.0"
   ]
  },
  {
   "cell_type": "code",
   "execution_count": 6,
   "id": "fde4b1f1",
   "metadata": {
    "id": "fde4b1f1"
   },
   "outputs": [],
   "source": [
    "#sklearn expects i/p to be 2d array-model.fit(x_train,y_train)=>reshape to 2d array\n",
    "nsamples, nx, ny, nrgb = x_train.shape\n",
    "x_train2 = x_train.reshape((nsamples,nx*ny*nrgb))"
   ]
  },
  {
   "cell_type": "code",
   "execution_count": 7,
   "id": "ef0dcc87",
   "metadata": {
    "id": "ef0dcc87"
   },
   "outputs": [],
   "source": [
    "#so,eventually,model.predict() should also be a 2d input\n",
    "nsamples, nx, ny, nrgb = x_test.shape\n",
    "x_test2 = x_test.reshape((nsamples,nx*ny*nrgb))"
   ]
  },
  {
   "cell_type": "markdown",
   "id": "4326307d",
   "metadata": {
    "id": "4326307d"
   },
   "source": [
    "## Model development"
   ]
  },
  {
   "cell_type": "code",
   "execution_count": 8,
   "id": "27d24122",
   "metadata": {
    "colab": {
     "base_uri": "https://localhost:8080/"
    },
    "id": "27d24122",
    "outputId": "1f2dd6c3-421b-4228-f8fb-c5fd8c3338f8"
   },
   "outputs": [
    {
     "name": "stdout",
     "output_type": "stream",
     "text": [
      "BEST PARAMS: {'max_depth': 100, 'n_estimators': 50}\n",
      "\n"
     ]
    }
   ],
   "source": [
    "rf = RandomForestClassifier()\n",
    "parameters = {\n",
    "    'max_depth': [1, 5, 10, 50, 100],\n",
    "\"n_estimators\": [1, 2, 4, 8, 16, 32, 50]\n",
    "}\n",
    "\n",
    "cv = GridSearchCV(rf, parameters, cv = 3)\n",
    "cv.fit(x_train2,y_train)\n",
    "print('BEST PARAMS: {}\\n'.format(cv.best_params_))"
   ]
  },
  {
   "cell_type": "code",
   "execution_count": 9,
   "id": "f32293bc",
   "metadata": {
    "id": "f32293bc"
   },
   "outputs": [],
   "source": [
    "model=RandomForestClassifier(max_depth= 50, n_estimators= 50)"
   ]
  },
  {
   "cell_type": "code",
   "execution_count": 10,
   "id": "8bcf6cf2",
   "metadata": {
    "colab": {
     "base_uri": "https://localhost:8080/"
    },
    "id": "8bcf6cf2",
    "outputId": "bce16830-c3c8-40df-901f-8469532d0fac"
   },
   "outputs": [
    {
     "data": {
      "text/plain": [
       "RandomForestClassifier(max_depth=50, n_estimators=50)"
      ]
     },
     "execution_count": 10,
     "metadata": {},
     "output_type": "execute_result"
    }
   ],
   "source": [
    "model.fit(x_train2,y_train)\n"
   ]
  },
  {
   "cell_type": "markdown",
   "id": "ac7d9248",
   "metadata": {
    "id": "ac7d9248"
   },
   "source": [
    "## Performance assessment"
   ]
  },
  {
   "cell_type": "code",
   "execution_count": 11,
   "id": "8d2dc48e",
   "metadata": {
    "colab": {
     "base_uri": "https://localhost:8080/"
    },
    "id": "8d2dc48e",
    "outputId": "6d9abe23-43de-4550-b64a-9998eb9d9f20"
   },
   "outputs": [
    {
     "data": {
      "text/plain": [
       "array([8, 8, 8, ..., 3, 6, 7], dtype=uint8)"
      ]
     },
     "execution_count": 11,
     "metadata": {},
     "output_type": "execute_result"
    }
   ],
   "source": [
    "y_pred=model.predict(x_test2)\n",
    "y_pred"
   ]
  },
  {
   "cell_type": "code",
   "execution_count": 12,
   "id": "50a9e374",
   "metadata": {
    "colab": {
     "base_uri": "https://localhost:8080/"
    },
    "id": "50a9e374",
    "outputId": "992c6bcd-eaa6-4c60-cf7e-4eaf154b52d5"
   },
   "outputs": [
    {
     "name": "stdout",
     "output_type": "stream",
     "text": [
      "Accuracy of random forest model is  0.4467\n",
      "              precision    recall  f1-score   support\n",
      "\n",
      "           0       0.57      0.53      0.55      1075\n",
      "           1       0.54      0.49      0.51      1086\n",
      "           2       0.33      0.34      0.34       961\n",
      "           3       0.29      0.31      0.30       930\n",
      "           4       0.38      0.36      0.37      1047\n",
      "           5       0.35      0.39      0.37       881\n",
      "           6       0.50      0.47      0.48      1070\n",
      "           7       0.41      0.48      0.44       836\n",
      "           8       0.59      0.58      0.58      1031\n",
      "           9       0.52      0.48      0.50      1083\n",
      "\n",
      "    accuracy                           0.45     10000\n",
      "   macro avg       0.45      0.44      0.44     10000\n",
      "weighted avg       0.45      0.45      0.45     10000\n",
      "\n"
     ]
    }
   ],
   "source": [
    "print(\"Accuracy of random forest model is \",accuracy_score(y_pred,y_test))\n",
    "print(classification_report(y_pred,y_test))"
   ]
  },
  {
   "cell_type": "code",
   "execution_count": 15,
   "id": "03c50327",
   "metadata": {
    "colab": {
     "base_uri": "https://localhost:8080/",
     "height": 787
    },
    "id": "03c50327",
    "outputId": "e1fabe18-c32c-4c82-96c3-d5fbe2507a42"
   },
   "outputs": [
    {
     "data": {
      "text/plain": [
       "array([[567,  43,  99,  55,  55,  39,  10,  50, 101,  56],\n",
       "       [ 43, 535,  47,  47,  25,  43,  35,  51,  92, 168],\n",
       "       [ 67,  26, 331,  92, 151,  98,  95,  61,  21,  19],\n",
       "       [ 18,  36,  87, 287,  73, 177,  96,  81,  31,  44],\n",
       "       [ 31,  24, 166,  87, 380,  76, 132, 111,  21,  19],\n",
       "       [ 14,  37,  67, 173,  49, 346,  56,  82,  34,  23],\n",
       "       [ 22,  33, 104, 111, 135,  85, 499,  45,  14,  22],\n",
       "       [ 28,  37,  49,  56,  83,  82,  32, 405,  16,  48],\n",
       "       [162,  57,  28,  20,  27,  25,   9,  33, 593,  77],\n",
       "       [ 48, 172,  22,  72,  22,  29,  36,  81,  77, 524]])"
      ]
     },
     "metadata": {},
     "output_type": "display_data"
    },
    {
     "data": {
      "text/plain": [
       "<matplotlib.axes._subplots.AxesSubplot at 0x7fa05e848a10>"
      ]
     },
     "execution_count": 15,
     "metadata": {},
     "output_type": "execute_result"
    },
    {
     "data": {
      "image/png": "[encoded data removed]",
      "text/plain": [
       "<Figure size 1080x720 with 2 Axes>"
      ]
     },
     "metadata": {
      "needs_background": "light"
     },
     "output_type": "display_data"
    }
   ],
   "source": [
    "cf_matrix = confusion_matrix(y_pred,y_test)\n",
    "display(cf_matrix)\n",
    "plt.figure(figsize = (15, 10))\n",
    "sns.heatmap(cf_matrix, annot=True, xticklabels=labels, yticklabels=labels, fmt = 'g')"
   ]
  }
 ],
 "metadata": {
  "colab": {
   "collapsed_sections": [],
   "name": "Final Project.ipynb",
   "provenance": []
  },
  "kernelspec": {
   "display_name": "Python 3 (ipykernel)",
   "language": "python",
   "name": "python3"
  },
  "language_info": {
   "codemirror_mode": {
    "name": "ipython",
    "version": 3
   },
   "file_extension": ".py",
   "mimetype": "text/x-python",
   "name": "python",
   "nbconvert_exporter": "python",
   "pygments_lexer": "ipython3",
   "version": "3.7.11"
  }
 },
 "nbformat": 4,
 "nbformat_minor": 5
}
